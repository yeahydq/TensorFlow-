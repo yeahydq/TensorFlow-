{
 "cells": [
  {
   "cell_type": "code",
   "execution_count": 1,
   "metadata": {},
   "outputs": [
    {
     "name": "stderr",
     "output_type": "stream",
     "text": [
      "/tool/anaconda3/lib/python3.6/site-packages/h5py/__init__.py:36: FutureWarning: Conversion of the second argument of issubdtype from `float` to `np.floating` is deprecated. In future, it will be treated as `np.float64 == np.dtype(float).type`.\n",
      "  from ._conv import register_converters as _register_converters\n"
     ]
    },
    {
     "name": "stdout",
     "output_type": "stream",
     "text": [
      "[0.0, 0.0]\n",
      "[5.0, 4.5]\n",
      "[10.0, 4.555]\n",
      "[10.0, 4.60945]\n"
     ]
    }
   ],
   "source": [
    "import tensorflow as tf\n",
    "\n",
    "\n",
    "v1 =tf.Variable(dtype=tf.float32, initial_value=0.)\n",
    "decay = .99\n",
    "num_updates = tf.Variable(0, trainable=False)\n",
    "\n",
    "ema = tf.train.ExponentialMovingAverage(decay=decay, num_updates=num_updates)\n",
    "update_var_list = [v1]      # 定义更新变量列表\n",
    "ema_apply = ema.apply(update_var_list)\n",
    "\n",
    "with tf.Session() as sess:\n",
    "    sess.run(tf.global_variables_initializer())\n",
    "    print(sess.run([v1, ema.average(v1)]))             \n",
    "                                                # [0.0, 0.0]（此时 num_updates = 0 ⇒ decay = .1, ），shadow_variable = variable = 0.\n",
    "\n",
    "    sess.run(tf.assign(v1, 5))\n",
    "    sess.run(ema_apply)\n",
    "    print(sess.run([v1, ema.average(v1)]))\n",
    "                                                # site-packages/tensorflow/python/training/moving_averages.py\n",
    "                                                # decay = math_ops.minimum(decay,(1.0 + num_updates) / (10.0 + num_updates))\n",
    "                                                # 此时，num_updates = 0 ⇒ decay =.1,  v1 = 5;\n",
    "                                                # shadow_variable = decay * shadow_variable + (1-decay) * variable\n",
    "                                                # shadow_variable = 0.1 * 0 + 0.9 * 5 = 4.5 ⇒ variable\n",
    "    sess.run(tf.assign(num_updates, 10000))\n",
    "    sess.run(tf.assign(v1, 10))\n",
    "    sess.run(ema_apply)\n",
    "    print(sess.run([v1, ema.average(v1)]))\n",
    "                                                # decay = .99,\n",
    "                                                # shadow_variable = 0.99 * 4.5 + .01*10 ⇒ 4.555\n",
    "    sess.run(ema_apply)\n",
    "    print(sess.run([v1, ema.average(v1)]))\n",
    "                                                # decay = .99\n",
    "                                                # shadow_variable = .99*4.555 + .01*10 = 4.609  "
   ]
  },
  {
   "cell_type": "code",
   "execution_count": null,
   "metadata": {},
   "outputs": [],
   "source": []
  }
 ],
 "metadata": {
  "kernelspec": {
   "display_name": "Python 3",
   "language": "python",
   "name": "python3"
  },
  "language_info": {
   "codemirror_mode": {
    "name": "ipython",
    "version": 3
   },
   "file_extension": ".py",
   "mimetype": "text/x-python",
   "name": "python",
   "nbconvert_exporter": "python",
   "pygments_lexer": "ipython3",
   "version": "3.6.4"
  }
 },
 "nbformat": 4,
 "nbformat_minor": 2
}
