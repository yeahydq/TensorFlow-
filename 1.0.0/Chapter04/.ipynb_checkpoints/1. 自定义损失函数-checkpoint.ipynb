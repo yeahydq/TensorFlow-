{
 "cells": [
  {
   "cell_type": "code",
   "execution_count": 1,
   "metadata": {},
   "outputs": [
    {
     "name": "stderr",
     "output_type": "stream",
     "text": [
      "/tool/anaconda3/lib/python3.6/site-packages/h5py/__init__.py:36: FutureWarning: Conversion of the second argument of issubdtype from `float` to `np.floating` is deprecated. In future, it will be treated as `np.float64 == np.dtype(float).type`.\n",
      "  from ._conv import register_converters as _register_converters\n"
     ]
    }
   ],
   "source": [
    "import tensorflow as tf\n",
    "from numpy.random import RandomState"
   ]
  },
  {
   "cell_type": "code",
   "execution_count": 4,
   "metadata": {},
   "outputs": [],
   "source": [
    "v1=tf.constant([[1.0,2.0],[3.0,4.0]])\n",
    "v2=tf.constant([[5.0,6.0],[7.0,8.0]])"
   ]
  },
  {
   "cell_type": "code",
   "execution_count": 12,
   "metadata": {},
   "outputs": [
    {
     "name": "stdout",
     "output_type": "stream",
     "text": [
      "[[ 5. 12.]\n",
      " [21. 32.]]\n"
     ]
    }
   ],
   "source": [
    "# 矩阵点积(dot-product)\n",
    "with tf.Session() as sess:\n",
    "    print((v1*v2).eval())"
   ]
  },
  {
   "cell_type": "code",
   "execution_count": 15,
   "metadata": {},
   "outputs": [
    {
     "name": "stdout",
     "output_type": "stream",
     "text": [
      "[[19. 22.]\n",
      " [43. 50.]]\n",
      "Tensor(\"MatMul_4:0\", shape=(2, 2), dtype=float32)\n"
     ]
    }
   ],
   "source": [
    "# 矩阵乘积(product)\n",
    "with tf.Session() as sess:\n",
    "    print(sess.run(tf.matmul(v1,v2)))\n",
    "    print(tf.matmul(v1,v2))"
   ]
  },
  {
   "cell_type": "markdown",
   "metadata": {},
   "source": [
    "#### 1. 定义神经网络的相关参数和变量。"
   ]
  },
  {
   "cell_type": "code",
   "execution_count": 16,
   "metadata": {},
   "outputs": [],
   "source": [
    "batch_size = 8\n",
    "x = tf.placeholder(tf.float32, shape=(None, 2), name=\"x-input\")\n",
    "y_ = tf.placeholder(tf.float32, shape=(None, 1), name='y-input')\n",
    "w1= tf.Variable(tf.random_normal([2, 1], stddev=1, seed=1))\n",
    "y = tf.matmul(x, w1)"
   ]
  },
  {
   "cell_type": "markdown",
   "metadata": {},
   "source": [
    "#### 2. 设置自定义的损失函数。"
   ]
  },
  {
   "cell_type": "code",
   "execution_count": 17,
   "metadata": {},
   "outputs": [],
   "source": [
    "# 定义损失函数使得预测少了的损失大，于是模型应该偏向多的方向预测。\n",
    "loss_less = 10\n",
    "loss_more = 1\n",
    "loss = tf.reduce_sum(tf.where(tf.greater(y, y_), (y - y_) * loss_more, (y_ - y) * loss_less))\n",
    "train_step = tf.train.AdamOptimizer(0.001).minimize(loss)"
   ]
  },
  {
   "cell_type": "markdown",
   "metadata": {},
   "source": [
    "#### 3. 生成模拟数据集。"
   ]
  },
  {
   "cell_type": "code",
   "execution_count": 18,
   "metadata": {},
   "outputs": [],
   "source": [
    "rdm = RandomState(1)\n",
    "X = rdm.rand(128,2)\n",
    "Y = [[x1+x2+(rdm.rand()/10.0-0.05)] for (x1, x2) in X]"
   ]
  },
  {
   "cell_type": "markdown",
   "metadata": {},
   "source": [
    "#### 4. 训练模型。"
   ]
  },
  {
   "cell_type": "code",
   "execution_count": 23,
   "metadata": {},
   "outputs": [
    {
     "name": "stdout",
     "output_type": "stream",
     "text": [
      "After 0 training step(s), w1 is: \n",
      "[[-0.81031823]\n",
      " [ 1.4855988 ]] \n",
      "\n",
      "After 1000 training step(s), w1 is: \n",
      "[[0.01247112]\n",
      " [2.1385448 ]] \n",
      "\n",
      "After 2000 training step(s), w1 is: \n",
      "[[0.45567414]\n",
      " [2.1706066 ]] \n",
      "\n",
      "After 3000 training step(s), w1 is: \n",
      "[[0.69968724]\n",
      " [1.8465308 ]] \n",
      "\n",
      "After 4000 training step(s), w1 is: \n",
      "[[0.89886665]\n",
      " [1.2973602 ]] \n",
      "\n",
      "After 5000 training step(s), w1 is: \n",
      "[[1.0192292]\n",
      " [1.042711 ]] \n",
      "\n",
      "After 6000 training step(s), w1 is: \n",
      "[[1.019682 ]\n",
      " [1.0426961]] \n",
      "\n",
      "After 7000 training step(s), w1 is: \n",
      "[[1.018528 ]\n",
      " [1.0431874]] \n",
      "\n",
      "After 8000 training step(s), w1 is: \n",
      "[[1.0195565]\n",
      " [1.0430399]] \n",
      "\n",
      "After 9000 training step(s), w1 is: \n",
      "[[1.0191133]\n",
      " [1.043481 ]] \n",
      "\n",
      "After 10000 training step(s), w1 is: \n",
      "[[1.019525 ]\n",
      " [1.0434688]] \n",
      "\n",
      "After 11000 training step(s), w1 is: \n",
      "[[1.0198247]\n",
      " [1.043875 ]] \n",
      "\n",
      "After 12000 training step(s), w1 is: \n",
      "[[1.0192617]\n",
      " [1.04349  ]] \n",
      "\n",
      "After 13000 training step(s), w1 is: \n",
      "[[1.0195762]\n",
      " [1.0442694]] \n",
      "\n",
      "After 14000 training step(s), w1 is: \n",
      "[[1.0195231]\n",
      " [1.0435933]] \n",
      "\n",
      "After 15000 training step(s), w1 is: \n",
      "[[1.018512 ]\n",
      " [1.0427426]] \n",
      "\n",
      "After 16000 training step(s), w1 is: \n",
      "[[1.0192733]\n",
      " [1.0437564]] \n",
      "\n",
      "After 17000 training step(s), w1 is: \n",
      "[[1.0193661]\n",
      " [1.0432864]] \n",
      "\n",
      "After 18000 training step(s), w1 is: \n",
      "[[1.0190859]\n",
      " [1.0436964]] \n",
      "\n",
      "After 19000 training step(s), w1 is: \n",
      "[[1.0199083]\n",
      " [1.0436523]] \n",
      "\n",
      "After 20000 training step(s), w1 is: \n",
      "[[1.0194659]\n",
      " [1.0437624]] \n",
      "\n",
      "After 21000 training step(s), w1 is: \n",
      "[[1.0192552]\n",
      " [1.0435796]] \n",
      "\n",
      "After 22000 training step(s), w1 is: \n",
      "[[1.019406 ]\n",
      " [1.0435761]] \n",
      "\n",
      "After 23000 training step(s), w1 is: \n",
      "[[1.0185039]\n",
      " [1.0431334]] \n",
      "\n",
      "After 24000 training step(s), w1 is: \n",
      "[[1.0189549]\n",
      " [1.0434498]] \n",
      "\n",
      "After 25000 training step(s), w1 is: \n",
      "[[1.0183071]\n",
      " [1.042782 ]] \n",
      "\n",
      "After 26000 training step(s), w1 is: \n",
      "[[1.0190278]\n",
      " [1.0437474]] \n",
      "\n",
      "After 27000 training step(s), w1 is: \n",
      "[[1.020209 ]\n",
      " [1.0433216]] \n",
      "\n",
      "After 28000 training step(s), w1 is: \n",
      "[[1.0200269]\n",
      " [1.04332  ]] \n",
      "\n",
      "After 29000 training step(s), w1 is: \n",
      "[[1.0189651]\n",
      " [1.0432601]] \n",
      "\n",
      "After 30000 training step(s), w1 is: \n",
      "[[1.019337 ]\n",
      " [1.0435487]] \n",
      "\n",
      "After 31000 training step(s), w1 is: \n",
      "[[1.0197222]\n",
      " [1.0441637]] \n",
      "\n",
      "After 32000 training step(s), w1 is: \n",
      "[[1.0193615]\n",
      " [1.0438675]] \n",
      "\n",
      "After 33000 training step(s), w1 is: \n",
      "[[1.0194955]\n",
      " [1.043026 ]] \n",
      "\n",
      "After 34000 training step(s), w1 is: \n",
      "[[1.0196077]\n",
      " [1.0435888]] \n",
      "\n",
      "After 35000 training step(s), w1 is: \n",
      "[[1.019143]\n",
      " [1.043417]] \n",
      "\n",
      "After 36000 training step(s), w1 is: \n",
      "[[1.019337 ]\n",
      " [1.0434325]] \n",
      "\n",
      "After 37000 training step(s), w1 is: \n",
      "[[1.0181248]\n",
      " [1.0432956]] \n",
      "\n",
      "After 38000 training step(s), w1 is: \n",
      "[[1.019944 ]\n",
      " [1.0435354]] \n",
      "\n",
      "After 39000 training step(s), w1 is: \n",
      "[[1.0193247]\n",
      " [1.0431975]] \n",
      "\n",
      "After 40000 training step(s), w1 is: \n",
      "[[1.0193026]\n",
      " [1.0433639]] \n",
      "\n",
      "After 41000 training step(s), w1 is: \n",
      "[[1.0194222]\n",
      " [1.0432976]] \n",
      "\n",
      "After 42000 training step(s), w1 is: \n",
      "[[1.0194073]\n",
      " [1.0431771]] \n",
      "\n",
      "After 43000 training step(s), w1 is: \n",
      "[[1.0184584]\n",
      " [1.0424182]] \n",
      "\n",
      "After 44000 training step(s), w1 is: \n",
      "[[1.0191735]\n",
      " [1.0433493]] \n",
      "\n",
      "After 45000 training step(s), w1 is: \n",
      "[[1.0183914]\n",
      " [1.0431116]] \n",
      "\n",
      "After 46000 training step(s), w1 is: \n",
      "[[1.0194391]\n",
      " [1.0432321]] \n",
      "\n",
      "After 47000 training step(s), w1 is: \n",
      "[[1.0199744]\n",
      " [1.0437499]] \n",
      "\n",
      "After 48000 training step(s), w1 is: \n",
      "[[1.0194103]\n",
      " [1.0433658]] \n",
      "\n",
      "After 49000 training step(s), w1 is: \n",
      "[[1.0197955]\n",
      " [1.0436927]] \n",
      "\n",
      "Final w1 is: \n",
      " [[1.0197049]\n",
      " [1.0429742]]\n"
     ]
    }
   ],
   "source": [
    "with tf.Session() as sess:\n",
    "    init_op = tf.global_variables_initializer()\n",
    "    sess.run(init_op)\n",
    "    STEPS = 50000\n",
    "    for i in range(STEPS):\n",
    "        start = (i*batch_size) % 128\n",
    "        end = (i*batch_size) % 128 + batch_size\n",
    "        sess.run(train_step, feed_dict={x: X[start:end], y_: Y[start:end]})\n",
    "        if i % 1000 == 0:\n",
    "            print(\"After %d training step(s), w1 is: \" % (i))\n",
    "            print(sess.run(w1), \"\\n\")\n",
    "    print(\"Final w1 is: \\n\", sess.run(w1))"
   ]
  },
  {
   "cell_type": "markdown",
   "metadata": {},
   "source": [
    "#### 5. 重新定义损失函数，使得预测多了的损失大，于是模型应该偏向少的方向预测。"
   ]
  },
  {
   "cell_type": "code",
   "execution_count": 26,
   "metadata": {},
   "outputs": [
    {
     "name": "stdout",
     "output_type": "stream",
     "text": [
      "After 0 training step(s), w1 is: \n",
      "[[-0.8123182]\n",
      " [ 1.4835987]] \n",
      "\n",
      "After 1000 training step(s), w1 is: \n",
      "[[0.18643527]\n",
      " [1.0739334 ]] \n",
      "\n",
      "After 2000 training step(s), w1 is: \n",
      "[[0.95444274]\n",
      " [0.98088616]] \n",
      "\n",
      "After 3000 training step(s), w1 is: \n",
      "[[0.9557403]\n",
      " [0.9806633]] \n",
      "\n",
      "After 4000 training step(s), w1 is: \n",
      "[[0.9546602 ]\n",
      " [0.98135227]] \n",
      "\n",
      "Final w1 is: \n",
      " [[0.9552581]\n",
      " [0.9813394]]\n"
     ]
    }
   ],
   "source": [
    "loss_less = 1\n",
    "loss_more = 10\n",
    "loss = tf.reduce_sum(tf.where(tf.greater(y, y_), (y - y_) * loss_more, (y_ - y) * loss_less))\n",
    "train_step = tf.train.AdamOptimizer(0.001).minimize(loss)\n",
    "\n",
    "with tf.Session() as sess:\n",
    "    init_op = tf.global_variables_initializer()\n",
    "    sess.run(init_op)\n",
    "    STEPS = 5000\n",
    "    for i in range(STEPS):\n",
    "        start = (i*batch_size) % 128\n",
    "        end = (i*batch_size) % 128 + batch_size\n",
    "        sess.run(train_step, feed_dict={x: X[start:end], y_: Y[start:end]})\n",
    "        if i % 1000 == 0:\n",
    "            print(\"After %d training step(s), w1 is: \" % (i))\n",
    "            print( sess.run(w1), \"\\n\")\n",
    "    print(\"Final w1 is: \\n\", sess.run(w1))"
   ]
  },
  {
   "cell_type": "markdown",
   "metadata": {},
   "source": [
    "#### 6. 定义损失函数为MSE。"
   ]
  },
  {
   "cell_type": "code",
   "execution_count": 28,
   "metadata": {
    "scrolled": true
   },
   "outputs": [
    {
     "name": "stdout",
     "output_type": "stream",
     "text": [
      "After 0 training step(s), w1 is: \n",
      "[[-0.81031823]\n",
      " [ 1.4855988 ]] \n",
      "\n",
      "After 1000 training step(s), w1 is: \n",
      "[[-0.13337609]\n",
      " [ 1.8130922 ]] \n",
      "\n",
      "After 2000 training step(s), w1 is: \n",
      "[[0.321903 ]\n",
      " [1.5246348]] \n",
      "\n",
      "After 3000 training step(s), w1 is: \n",
      "[[0.67850214]\n",
      " [1.2529727 ]] \n",
      "\n",
      "After 4000 training step(s), w1 is: \n",
      "[[0.89474  ]\n",
      " [1.0859823]] \n",
      "\n",
      "Final w1 is: \n",
      " [[0.9743756]\n",
      " [1.0243336]]\n"
     ]
    }
   ],
   "source": [
    "loss = tf.losses.mean_squared_error(y, y_)\n",
    "train_step = tf.train.AdamOptimizer(0.001).minimize(loss)\n",
    "\n",
    "with tf.Session() as sess:\n",
    "    init_op = tf.global_variables_initializer()\n",
    "    sess.run(init_op)\n",
    "    STEPS = 5000\n",
    "    for i in range(STEPS):\n",
    "        start = (i*batch_size) % 128\n",
    "        end = (i*batch_size) % 128 + batch_size\n",
    "        sess.run(train_step, feed_dict={x: X[start:end], y_: Y[start:end]})\n",
    "        if i % 1000 == 0:\n",
    "            print(\"After %d training step(s), w1 is: \" % (i))\n",
    "            print(sess.run(w1), \"\\n\")\n",
    "    print(\"Final w1 is: \\n\", sess.run(w1))"
   ]
  },
  {
   "cell_type": "code",
   "execution_count": null,
   "metadata": {},
   "outputs": [],
   "source": []
  }
 ],
 "metadata": {
  "kernelspec": {
   "display_name": "Python 3",
   "language": "python",
   "name": "python3"
  },
  "language_info": {
   "codemirror_mode": {
    "name": "ipython",
    "version": 3
   },
   "file_extension": ".py",
   "mimetype": "text/x-python",
   "name": "python",
   "nbconvert_exporter": "python",
   "pygments_lexer": "ipython3",
   "version": "3.6.4"
  }
 },
 "nbformat": 4,
 "nbformat_minor": 1
}
